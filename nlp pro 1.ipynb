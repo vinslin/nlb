{
 "cells": [
  {
   "cell_type": "code",
   "execution_count": null,
   "id": "72c3691c",
   "metadata": {},
   "outputs": [],
   "source": [
    "#join both df using the feature called title\n",
    "movies=movies.merge(credits,on='title')"
   ]
  },
  {
   "cell_type": "code",
   "execution_count": null,
   "id": "961278a2",
   "metadata": {},
   "outputs": [],
   "source": [
    "#shows the null cells sum\n",
    "movies.isnull().sum()\n"
   ]
  },
  {
   "cell_type": "code",
   "execution_count": null,
   "id": "50051a4a",
   "metadata": {},
   "outputs": [],
   "source": [
    "#find the duplicates\n",
    "movies.duplicated().sum()"
   ]
  },
  {
   "cell_type": "code",
   "execution_count": null,
   "id": "91adb4c6",
   "metadata": {},
   "outputs": [],
   "source": [
    "#change the tuples colums into usable features\n",
    "import ast\n",
    "def convert(obj):\n",
    "    L=[]\n",
    "    for i in ast.literal_eval(obj):\n",
    "        L.append(i['name'])\n",
    "    return L\n",
    "    \n",
    "    \n",
    "movies['genres']=movies['genres'].apply(convert)"
   ]
  },
  {
   "cell_type": "code",
   "execution_count": null,
   "id": "48c6e176",
   "metadata": {},
   "outputs": [],
   "source": [
    "#fetch specific tuples \n",
    "def fetch_director(obj):\n",
    "    L=[]\n",
    "    for i in ast.literal_eval(obj):\n",
    "        if i['job'] == 'Director':\n",
    "            L.append(i['name'])\n",
    "            break\n",
    "    return L\n",
    "    \n",
    "\n",
    "movies['crew']=movies['crew'].apply(fetch_director)"
   ]
  },
  {
   "cell_type": "code",
   "execution_count": null,
   "id": "6411e43a",
   "metadata": {},
   "outputs": [],
   "source": [
    "movies['overview']=movies['overview'].apply(lambda x:x.split())\n",
    "#       [In, the, 22nd, century,, a, paraplegic, Marin.."
   ]
  },
  {
   "cell_type": "code",
   "execution_count": null,
   "id": "c681e358",
   "metadata": {},
   "outputs": [],
   "source": [
    "#remove the space between the words\n",
    "movies['genres']=movies['genres'].apply(lambda x:[i.replace(\" \",\"\")for i in x])"
   ]
  },
  {
   "cell_type": "code",
   "execution_count": null,
   "id": "bf130eb5",
   "metadata": {},
   "outputs": [],
   "source": [
    "#concat all the columns\n",
    "movies['tags']=movies['overview']+movies['genres']+movies['keywords']+movies['cast']+movies['crew']"
   ]
  },
  {
   "cell_type": "code",
   "execution_count": null,
   "id": "aebd4f89",
   "metadata": {},
   "outputs": [],
   "source": [
    "#transform the tags column list into strings\n",
    "new_df['tags']=new_df['tags'].apply(lambda x:\" \".join(x))"
   ]
  },
  {
   "cell_type": "code",
   "execution_count": null,
   "id": "53a9c5cb",
   "metadata": {},
   "outputs": [],
   "source": [
    "#apply stemming \n",
    "from nltk.stem.porter import PorterStemmer\n",
    "ps = PorterStemmer()\n",
    "ps.stem('shooting')\n",
    "#'shoot'"
   ]
  },
  {
   "cell_type": "code",
   "execution_count": null,
   "id": "f12a3aa8",
   "metadata": {},
   "outputs": [],
   "source": [
    "#and remove stop words (and,are,do,to,from)\n",
    "from sklearn.feature_extraction.text import CountVectorizer\n",
    "cv =CountVectorizer(max_features=5000,stop_words='english')\n",
    "\n"
   ]
  },
  {
   "cell_type": "code",
   "execution_count": null,
   "id": "61b8084c",
   "metadata": {},
   "outputs": [],
   "source": [
    "vectors=cv.fit_transform(new_df['tags']).toarray()\n",
    "                                    "
   ]
  },
  {
   "cell_type": "code",
   "execution_count": null,
   "id": "8f91f69b",
   "metadata": {},
   "outputs": [],
   "source": [
    "#cosine vector similariry\n",
    "#used to high dimension \n",
    "\n",
    "\n",
    "from sklearn.metrics.pairwise import cosine_similarity\n",
    "\n",
    "similarity=cosine_similarity(vectors)\n",
    "similarity.shape"
   ]
  }
 ],
 "metadata": {
  "kernelspec": {
   "display_name": "Python 3 (ipykernel)",
   "language": "python",
   "name": "python3"
  },
  "language_info": {
   "codemirror_mode": {
    "name": "ipython",
    "version": 3
   },
   "file_extension": ".py",
   "mimetype": "text/x-python",
   "name": "python",
   "nbconvert_exporter": "python",
   "pygments_lexer": "ipython3",
   "version": "3.9.13"
  }
 },
 "nbformat": 4,
 "nbformat_minor": 5
}
